{
  "nbformat": 4,
  "nbformat_minor": 0,
  "metadata": {
    "colab": {
      "provenance": [],
      "include_colab_link": true
    },
    "kernelspec": {
      "name": "python3",
      "display_name": "Python 3"
    },
    "language_info": {
      "name": "python"
    }
  },
  "cells": [
    {
      "cell_type": "markdown",
      "metadata": {
        "id": "view-in-github",
        "colab_type": "text"
      },
      "source": [
        "<a href=\"https://colab.research.google.com/github/AlejAguilar22/Artificial_Intelligence_FIME/blob/main/Assignment_2_PythonExercises_.ipynb\" target=\"_parent\"><img src=\"https://colab.research.google.com/assets/colab-badge.svg\" alt=\"Open In Colab\"/></a>"
      ]
    },
    {
      "cell_type": "markdown",
      "source": [
        "**Assigment 2.- Basics on Python.**\n",
        "\n",
        "---\n",
        "\n",
        "\n"
      ],
      "metadata": {
        "id": "TiBJAuURRvs7"
      }
    },
    {
      "cell_type": "markdown",
      "source": [
        "***Goal***:\n",
        "Practice Python syntax and programming logic. Get to know Google Colab interface.\n",
        "\n",
        "***Instructions***: Work on the next exercises:"
      ],
      "metadata": {
        "id": "VL9W8pZtR9B9"
      }
    },
    {
      "cell_type": "markdown",
      "source": [
        "*Text Analysis Tool:*\n",
        "\n",
        "---\n",
        "\n",
        "Create a Python program that reads a text file and performs various analyses on its content. The program should: Count the number of words, sentences, and paragraphs. Calculate the average word length. Identify the most common words and their frequencies."
      ],
      "metadata": {
        "id": "PKvGg1L4RMO8"
      }
    },
    {
      "cell_type": "code",
      "source": [
        "def analyze_text():\n",
        "    # Variables\n",
        "    word_count = 0\n",
        "    sentence_count = 0\n",
        "    paragraph_count = 0\n",
        "    total_word_length = 0\n",
        "    frequent_words = {}\n",
        "\n",
        "    # Get text\n",
        "    text = input(\"Enter the text to analyze: \")\n",
        "\n",
        "    # Divide text into words\n",
        "    words = text.lower().split()\n",
        "    #Divide text into sentences\n",
        "    sentences = text.split(\".\")\n",
        "    # Count words\n",
        "    word_count = len(words)\n",
        "    #Count sentences\n",
        "    sentence_count = len(sentences)\n",
        "    #Count paragraphs\n",
        "    paragraph_count = text.count(\"\\n\\n\") + 1  # Count empty lines between paragraphs\n",
        "\n",
        "    # Calculate total word length\n",
        "    for word in words:\n",
        "        total_word_length += len(word)\n",
        "    # Calculate average word length\n",
        "    average_word_length = total_word_length / word_count if word_count else 0\n",
        "\n",
        "    # Count word frequencies\n",
        "    for word in words:\n",
        "        frequent_words[word] = frequent_words.get(word, 0) + 1\n",
        "\n",
        "    # Find the most common word\n",
        "    most_common_word = max(frequent_words, key=frequent_words.get)\n",
        "    #How much did it appeared in the text\n",
        "    most_common_frequency = frequent_words[most_common_word]\n",
        "\n",
        "    # Print\n",
        "    print(\"Word count:\", word_count)\n",
        "    print(\"Sentence count:\", sentence_count)\n",
        "    print(\"Paragraph count:\", paragraph_count)\n",
        "    print(\"Average word length:\", average_word_length)\n",
        "    print(\"Most common word:\", most_common_word, \";\", most_common_frequency, \"times appeared in the text analyzed\")\n",
        "\n",
        "analyze_text()"
      ],
      "metadata": {
        "id": "IHOBYTdf6ylt",
        "outputId": "8a30cdac-3a2e-4bb7-9ba8-c045cd10f807",
        "colab": {
          "base_uri": "https://localhost:8080/"
        }
      },
      "execution_count": 8,
      "outputs": [
        {
          "output_type": "stream",
          "name": "stdout",
          "text": [
            "Enter the text to analyze: Clean clams crammed in clean cans.\n",
            "Word count: 6\n",
            "Sentence count: 2\n",
            "Paragraph count: 1\n",
            "Average word length: 4.833333333333333\n",
            "Most common word: clean ; 2 times appeared in the text analyzed\n"
          ]
        }
      ]
    },
    {
      "cell_type": "markdown",
      "source": [
        "*Hangman Game:*\n",
        "\n",
        "\n",
        "---\n",
        "\n",
        "\n",
        "Create a Python program that allows a user to play the game of Hangman. The program should randomly select a word from a predefined list, and the player must guess letters one at a time until they guess the word correctly or run out of attempts.\n"
      ],
      "metadata": {
        "id": "cUKrcjJxHM-9"
      }
    },
    {
      "cell_type": "code",
      "source": [
        "import random\n",
        "\n",
        "def choose_word():\n",
        "    words = [\"flower\", \"wallet\", \"mirror\", \"twilight\", \"camera\", \"travel\", \"puzzle\", \"jacket\", \"candle\", \"hill\"]\n",
        "    return random.choice(words)\n",
        "\n",
        "def display_word(word, guessed_letters):\n",
        "    displayed_word = \"\"\n",
        "    for letter in word:\n",
        "        if letter in guessed_letters:\n",
        "            displayed_word += letter\n",
        "        else:\n",
        "            displayed_word += \"_\"\n",
        "    return displayed_word\n",
        "\n",
        "def hangman():\n",
        "    max_attempts = 5\n",
        "    word = choose_word()\n",
        "    guessed_letters = []\n",
        "    attempts = 0\n",
        "\n",
        "    print(\"Try to guess the word!\")\n",
        "\n",
        "    while True:\n",
        "        print(\"\\n\" + display_word(word, guessed_letters))\n",
        "        guess = input(\"Guess a letter: \")\n",
        "\n",
        "        if guess in word:\n",
        "            guessed_letters.append(guess)\n",
        "            print(\"Good guess!\")\n",
        "        else:\n",
        "            attempts += 1\n",
        "            print(\"Incorrect guess.\")\n",
        "            print(f\"You have {max_attempts - attempts} attempts left.\")\n",
        "\n",
        "        if \"_\" not in display_word(word, guessed_letters):\n",
        "            print(\"\\nCongratulations! You guessed the word:\", word)\n",
        "            break\n",
        "        elif attempts == max_attempts:\n",
        "            print(\"\\nSorry, you've run out of attempts. The word was:\", word)\n",
        "            break\n",
        "\n",
        "# Start the game\n",
        "hangman()"
      ],
      "metadata": {
        "colab": {
          "base_uri": "https://localhost:8080/"
        },
        "id": "7VzdUyU5mp89",
        "outputId": "b8b4d530-4fa3-4514-dd7d-dfdb59495087"
      },
      "execution_count": 7,
      "outputs": [
        {
          "output_type": "stream",
          "name": "stdout",
          "text": [
            "Try to guess the word!\n",
            "\n",
            "______\n",
            "Guess a letter: i\n",
            "Incorrect guess.\n",
            "You have 4 attempts left.\n",
            "\n",
            "______\n",
            "Guess a letter: a\n",
            "Incorrect guess.\n",
            "You have 3 attempts left.\n",
            "\n",
            "______\n",
            "Guess a letter: o\n",
            "Good guess!\n",
            "\n",
            "__o___\n",
            "Guess a letter: f\n",
            "Good guess!\n",
            "\n",
            "f_o___\n",
            "Guess a letter: l\n",
            "Good guess!\n",
            "\n",
            "flo___\n",
            "Guess a letter: w\n",
            "Good guess!\n",
            "\n",
            "flow__\n",
            "Guess a letter: e\n",
            "Good guess!\n",
            "\n",
            "flowe_\n",
            "Guess a letter: r\n",
            "Good guess!\n",
            "\n",
            "Congratulations! You guessed the word: flower\n"
          ]
        }
      ]
    },
    {
      "cell_type": "markdown",
      "source": [
        "*Number Guessing Game:*\n",
        "\n",
        "\n",
        "---\n",
        "\n",
        "\n",
        "Create a program that generates a random number between 1 and 100, and then asks the user to guess the number. The program should provide hints to the user if the guessed number is greater or less than the target number, and keep asking for a new guess until the user guesses correctly.\n"
      ],
      "metadata": {
        "id": "z4j6wbu0RglU"
      }
    },
    {
      "cell_type": "code",
      "source": [
        "import random\n",
        "#Generate a number from 1 to 100\n",
        "number_machine = random.randint (1,100)\n",
        "while True:\n",
        "#Do not show on screen\n",
        "  print(\"What number do you think I chose?\")\n",
        "  number_human = int(input(\"Enter the number: \"))\n",
        "  if number_machine == number_human:\n",
        "    print (\"You did it, it's the number!\\n\")\n",
        "    break\n",
        "  elif number_machine < number_human:\n",
        "    print (\"This number is greater, choose a number less than that\\n\")\n",
        "  else:\n",
        "    print (\"This number is less, choose a number greater than that\\n\")\n",
        "#The loop continues until answers match"
      ],
      "metadata": {
        "id": "2ZTSFKNpRigL",
        "colab": {
          "base_uri": "https://localhost:8080/"
        },
        "outputId": "637c7060-fea1-4398-8300-0c96ff56b886"
      },
      "execution_count": 9,
      "outputs": [
        {
          "output_type": "stream",
          "name": "stdout",
          "text": [
            "What number do you think I chose?\n",
            "Enter the number: 12\n",
            "This number is less, choose a number greater than that\n",
            "\n",
            "What number do you think I chose?\n",
            "Enter the number: 50\n",
            "This number is less, choose a number greater than that\n",
            "\n",
            "What number do you think I chose?\n",
            "Enter the number: 70\n",
            "This number is less, choose a number greater than that\n",
            "\n",
            "What number do you think I chose?\n",
            "Enter the number: 90\n",
            "This number is less, choose a number greater than that\n",
            "\n",
            "What number do you think I chose?\n",
            "Enter the number: 96\n",
            "This number is less, choose a number greater than that\n",
            "\n",
            "What number do you think I chose?\n",
            "Enter the number: 98\n",
            "This number is less, choose a number greater than that\n",
            "\n",
            "What number do you think I chose?\n",
            "Enter the number: 100\n",
            "You did it, it's the number!\n",
            "\n"
          ]
        }
      ]
    },
    {
      "cell_type": "markdown",
      "source": [
        "---\n",
        "\n",
        "\n",
        "Universidad Autonoma de Nuevo León - Facultad de Ingenieria Mecanica y Electrica\n",
        "> Artificial Intelligence 001\n",
        "\n",
        "> Tuesday N4-N6, Aug - Dec 2024\n",
        "\n",
        "Professor:\n",
        "\n",
        "> Daniel Isaías López Páez\n",
        "\n",
        "Student:\n",
        "\n",
        "> 1877572 Javier Alejandro Aguilar Espinosa\n",
        "\n",
        "\n"
      ],
      "metadata": {
        "id": "UI8NnAOXTXEk"
      }
    }
  ]
}